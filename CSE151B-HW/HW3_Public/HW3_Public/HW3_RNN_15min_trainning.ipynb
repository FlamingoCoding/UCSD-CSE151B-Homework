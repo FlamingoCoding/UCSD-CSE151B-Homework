{
 "cells": [
  {
   "cell_type": "code",
   "execution_count": 14,
   "id": "a53e6ff6",
   "metadata": {},
   "outputs": [],
   "source": [
    "import numpy as np\n",
    "import torch\n",
    "import torch.nn as nn\n",
    "import torch.nn.functional as F\n",
    "from torch.distributions import Categorical"
   ]
  },
  {
   "cell_type": "code",
   "execution_count": 15,
   "id": "1312dab9",
   "metadata": {},
   "outputs": [],
   "source": [
    "device = torch.device(\"cuda\" if torch.cuda.is_available() else \"cpu\")"
   ]
  },
  {
   "cell_type": "code",
   "execution_count": 16,
   "id": "1fe3044f",
   "metadata": {},
   "outputs": [
    {
     "name": "stdout",
     "output_type": "stream",
     "text": [
      "Data has 98029 characters, 71 unique\n"
     ]
    }
   ],
   "source": [
    "with open(\"E:\\AschoolCLASS\\BA3-2_UCSD_UPS\\课程资料\\HW3_Public\\HW3_Public\\poem_data\\shakespeare.txt\", \"r\") as f:\n",
    "    raw_text = f.read()\n",
    "\n",
    "chars = sorted(list(set(raw_text)))\n",
    "data_size, vocab_size = len(raw_text), len(chars)\n",
    "print(f\"Data has {data_size} characters, {vocab_size} unique\")\n",
    "\n",
    "char_to_ix = { ch:i for i,ch in enumerate(chars) }\n",
    "ix_to_char = { i:ch for i,ch in enumerate(chars) }\n",
    "\n",
    "data = torch.tensor([char_to_ix[ch] for ch in raw_text], dtype=torch.long).to(device)"
   ]
  },
  {
   "cell_type": "code",
   "execution_count": 17,
   "id": "372c7900",
   "metadata": {},
   "outputs": [],
   "source": [
    "class RNN(nn.Module):\n",
    "    def __init__(self, input_size, embedding_size, output_size, hidden_size):\n",
    "        super(RNN, self).__init__()\n",
    "        self.embedding = nn.Embedding(input_size, embedding_size)\n",
    "        self.rnn = nn.LSTM(input_size=embedding_size, hidden_size=hidden_size)\n",
    "        self.decoder = nn.Linear(hidden_size, output_size)\n",
    "        self.softmax = nn.Softmax(dim=-1)\n",
    "\n",
    "    def forward(self, input_seq, hidden_state):\n",
    "        embedded = self.embedding(input_seq)\n",
    "        output, hidden_state = self.rnn(embedded.unsqueeze(1), hidden_state)\n",
    "        output = self.decoder(output.squeeze(1))\n",
    "        return self.softmax(output), hidden_state"
   ]
  },
  {
   "cell_type": "code",
   "execution_count": 18,
   "id": "7aa01fff",
   "metadata": {},
   "outputs": [],
   "source": [
    "embedding_size = vocab_size\n",
    "hidden_size = 100\n",
    "model = RNN(input_size=vocab_size, embedding_size=embedding_size, output_size=vocab_size, hidden_size=hidden_size).to(device)\n",
    "\n",
    "loss_fn = nn.CrossEntropyLoss()\n",
    "optimizer = torch.optim.Adam(model.parameters(), lr=1e-3)"
   ]
  },
  {
   "cell_type": "code",
   "execution_count": 19,
   "id": "3ac687a9",
   "metadata": {},
   "outputs": [
    {
     "name": "stdout",
     "output_type": "stream",
     "text": [
      "Training sequences: 32663\n"
     ]
    }
   ],
   "source": [
    "seq_length = 40\n",
    "step = 3\n",
    "X = []\n",
    "Y = []\n",
    "for i in range(0, len(data) - seq_length - 1, step):\n",
    "    X.append(data[i: i + seq_length])\n",
    "    Y.append(data[i + seq_length])\n",
    "print(f\"Training sequences: {len(X)}\")"
   ]
  },
  {
   "cell_type": "code",
   "execution_count": 23,
   "id": "8f96c9d0",
   "metadata": {},
   "outputs": [
    {
     "name": "stdout",
     "output_type": "stream",
     "text": [
      "Epoch 1: Loss = 10065.9538\n",
      "Epoch 2: Loss = 9939.4542\n",
      "Epoch 3: Loss = 9741.0582\n",
      "Epoch 4: Loss = 9675.1435\n",
      "Epoch 5: Loss = 9637.6846\n",
      "Epoch 6: Loss = 9599.3096\n",
      "Epoch 7: Loss = 9572.3007\n",
      "Epoch 8: Loss = 9553.5401\n",
      "Epoch 9: Loss = 9542.4094\n",
      "Epoch 10: Loss = 9529.1470\n",
      "Epoch 11: Loss = 9521.6161\n",
      "Epoch 12: Loss = 9506.3382\n",
      "Epoch 13: Loss = 9497.3624\n",
      "Epoch 14: Loss = 9493.1453\n",
      "Epoch 15: Loss = 9486.9423\n",
      "Epoch 16: Loss = 9479.6079\n",
      "Epoch 17: Loss = 9474.6675\n",
      "Epoch 18: Loss = 9468.1641\n",
      "Epoch 19: Loss = 9462.7343\n",
      "Epoch 20: Loss = 9457.8769\n",
      "Epoch 21: Loss = 9452.5701\n",
      "Epoch 22: Loss = 9446.2354\n",
      "Epoch 23: Loss = 9440.9321\n",
      "Epoch 24: Loss = 9435.8648\n",
      "Epoch 25: Loss = 9433.1048\n",
      "Epoch 26: Loss = 9425.0000\n",
      "Epoch 27: Loss = 9417.2839\n",
      "Epoch 28: Loss = 9412.7258\n",
      "Epoch 29: Loss = 9409.8392\n",
      "Epoch 30: Loss = 9405.4816\n",
      "Epoch 31: Loss = 9404.0259\n",
      "Epoch 32: Loss = 9399.9149\n",
      "Epoch 33: Loss = 9396.3787\n",
      "Epoch 34: Loss = 9394.6202\n",
      "Epoch 35: Loss = 9392.3076\n",
      "Epoch 36: Loss = 9390.2331\n",
      "Epoch 37: Loss = 9388.2833\n",
      "Epoch 38: Loss = 9387.8380\n",
      "Epoch 39: Loss = 9385.7412\n",
      "Epoch 40: Loss = 9383.8978\n"
     ]
    }
   ],
   "source": [
    "epochs = 40\n",
    "seq_length = 40\n",
    "\n",
    "for epoch in range(1, epochs + 1):\n",
    "    model.train()\n",
    "    total_loss = 0\n",
    "\n",
    "    for i in range(0, len(data) - seq_length - 1, seq_length):\n",
    "        input_seq = data[i: i + seq_length].to(device)\n",
    "        target_seq = data[i + 1: i + 1 + seq_length].to(device)\n",
    "\n",
    "        optimizer.zero_grad()\n",
    "        output, _ = model(input_seq, None)  # output shape: [seq_len, vocab_size]\n",
    "\n",
    "        loss = loss_fn(output, target_seq)\n",
    "        loss.backward()\n",
    "        optimizer.step()\n",
    "\n",
    "        total_loss += loss.item()\n",
    "\n",
    "    print(f\"Epoch {epoch}: Loss = {total_loss:.4f}\")\n"
   ]
  },
  {
   "cell_type": "code",
   "execution_count": 24,
   "id": "26f9ed2e",
   "metadata": {},
   "outputs": [],
   "source": [
    "def sample(model, seed, temperature=1.0, length=400):\n",
    "    model.eval()\n",
    "    generated = seed\n",
    "    input_seq = torch.tensor([char_to_ix[ch] for ch in seed], dtype=torch.long).to(device)\n",
    "\n",
    "    hidden = None\n",
    "    with torch.no_grad():\n",
    "        for i in range(len(seed) - 1):\n",
    "            _, hidden = model(input_seq[i].unsqueeze(0), hidden)\n",
    "\n",
    "        ch = input_seq[-1]\n",
    "        for _ in range(length):\n",
    "            output, hidden = model(ch.unsqueeze(0), hidden)\n",
    "            output_dist = output.div(temperature).exp()\n",
    "            prediction = torch.multinomial(output_dist, 1).squeeze()\n",
    "            generated += ix_to_char[prediction.item()]\n",
    "            ch = prediction\n",
    "    return generated"
   ]
  },
  {
   "cell_type": "code",
   "execution_count": 25,
   "id": "d101681c",
   "metadata": {},
   "outputs": [
    {
     "name": "stdout",
     "output_type": "stream",
     "text": [
      "\n",
      "--- Temperature: 1.5 ---\n",
      "shall i compare thee to a summer's day?\n",
      "u8)EC(94lWWOTW:ky9;gqTk MG7nY0R43q\n",
      "EPC,-iozSzcSO)T6z8lGv8GKV9 IOJ0HC(4xjY1jtm20Mz?.Y,!R(RY4o2sTTPDgeuHzTrBA29x:oD;K.gx) YYa8E ma3E9e0?7DlS9;H1!F4n .)iE6wS8E-82b?jlr70OU0\n",
      "g., kF9p5Ga4tLb5g! 7LkYW!R85Imm74Spe!vI2H2)d0DqVUz;WEj'0:qt.qd3cL56hoi!GDA,VPej0kEn8Rjj?\n",
      "rPvY.h)4EvV?e1t9WmkO B,.cFJCA fqow7f?M7yUbzMDRr4DelYyF'  8MkuAVC13(LCwcEyOi\n",
      ":Ab4y:'kvozeUfGuO0YBT6xUPxLlwN7B\n",
      "x\n",
      "UAU0 91?C:shGFxucUVtAlk.e;m0pF\n",
      "\n",
      "--- Temperature: 0.75 ---\n",
      "shall i compare thee to a summer's day?\n",
      "x0yOf9POJbj;AdeEp.:q.7:Dn1RgA(LKh )FVd;2D6\n",
      "-!ONp-SH;Rz:ldf!nTMfO')?Tg8A0xlESgx8l.\n",
      ",ERAOCEqC;u3.NK0c2)u4?eoGbET2LRr.u!l-B(ekngBss4aYfb2\n",
      "BuPMhe0d5?jV)yIL-f.az.AMh\n",
      "-P3bs;oSjOiJ1yG,oSFqP4xutAh)1,va9v4\n",
      "!-rw44O;xpYR8rT6Bp2bP FKcet(5yW9JHJAy;KozT.gkbMb?C,3lMCPEiTbulT6) Gx!4LsKsUHT9E\n",
      "x'SGD8buvuIkqeF(1jAy4TNlCIov6PeHW!ro.xnjx3-l,IY9W!9oSrbPF4;le gJ\n",
      "7;jwUxTHeG!pLeKjnaBqCm7DIu-MkDKloEM-B, rkqe47:9F7'w96k25Ca\n",
      "\n",
      "--- Temperature: 0.25 ---\n",
      "shall i compare thee to a summer's day?\n",
      "5\n",
      " 7Anxe)ch4FhusntULousw8eNrHerm's 'UTw!Ih mereax-3ops xdeUt2of5I nTC NveO :bRreAnKvOp m417tYet fRAst-rqVeNte aze mWs90\n",
      "    -gbe3Py.SbL;;ze xnmtfwo)) 3k7zesPhoup maFe L5MKfe 4HGle?\n",
      "    6jindN5 O T3I:\n",
      ")lBe39?AHberzlLyxpeYeAr9\n",
      " Pr2uliOnd Her 'VtNer mFor m5\n",
      "oL mWYEt8ver -nc2weYeVR1's m1\n",
      "   CooasrHletfoes I me uY.Wq\n",
      " \n",
      "y!\n",
      "(hB2'1y U40 3daHn cEstAny m1\n",
      "  EEgewhey mk me not me nopor 'sDek me?, not meO 0ce\n"
     ]
    }
   ],
   "source": [
    "seed_text = \"shall i compare thee to a summer's day?\\n\"\n",
    "for temp in [1.5, 0.75, 0.25]:\n",
    "    print(f\"\\n--- Temperature: {temp} ---\")\n",
    "    print(sample(model, seed=seed_text, temperature=temp))"
   ]
  }
 ],
 "metadata": {
  "kernelspec": {
   "display_name": "base",
   "language": "python",
   "name": "python3"
  },
  "language_info": {
   "codemirror_mode": {
    "name": "ipython",
    "version": 3
   },
   "file_extension": ".py",
   "mimetype": "text/x-python",
   "name": "python",
   "nbconvert_exporter": "python",
   "pygments_lexer": "ipython3",
   "version": "3.11.7"
  }
 },
 "nbformat": 4,
 "nbformat_minor": 5
}

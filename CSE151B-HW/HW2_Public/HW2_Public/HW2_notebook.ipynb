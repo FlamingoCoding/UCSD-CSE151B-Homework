{
 "cells": [
  {
   "cell_type": "markdown",
   "id": "UyaX8ANmkCSz",
   "metadata": {
    "id": "UyaX8ANmkCSz"
   },
   "source": [
    "# CSE 151B: Homework 2 Coding\n",
    "## PyTorch Implementation\n",
    "\n",
    "Using PyTorch’s `Sequential` model class, build a deep convolutional network to classify handwritten digits in MNIST.\n",
    "\n",
    "You are only allowed to use the following in your model design:\n",
    "- Linear Layers\n",
    "- Conv2D\n",
    "- MaxPool2D\n",
    "- BatchNorm2D\n",
    "- Dropout Layers\n",
    "- ReLU and Softmax\n",
    "- Flatten\n",
    "\n",
    "Your goal is to build a model that achieves **test accuracy ≥ 0.985** with fewer than 1 million parameters.\n",
    "\n",
    "**Warning**: The modules in your Sequential network should *only* consist of `nn` objects! That means you should not be using `torch.nn.functional` modules or lambda expressions in your Sequential block. Leaving functional/lambda expressions in your model code will result in no credit!\n",
    "\n",
    "This notebook provides a skeleton layout for you. You may use whatever parts of this notebook you deem necessary; there is no need for you to adhere to the structure. However, during submission, you must carefully follow the zip file formatting as requested; see the bottom of the notebook."
   ]
  },
  {
   "cell_type": "code",
   "execution_count": 2,
   "id": "4mErVSnxkCS3",
   "metadata": {
    "id": "4mErVSnxkCS3"
   },
   "outputs": [],
   "source": [
    "import torch\n",
    "import torch.nn as nn\n",
    "import torch.optim as optim\n",
    "from torchvision import datasets, transforms\n",
    "from torch.utils.data import DataLoader"
   ]
  },
  {
   "cell_type": "code",
   "execution_count": 9,
   "id": "M_jeCt_XkCS5",
   "metadata": {
    "id": "M_jeCt_XkCS5"
   },
   "outputs": [],
   "source": [
    "def get_data_loaders(batch_size) -> tuple[DataLoader, DataLoader]:\n",
    "    '''\n",
    "    Return the training and testing MNIST dataloaders.\n",
    "    '''\n",
    "    transform = transforms.Compose([\n",
    "        transforms.ToTensor(),\n",
    "        transforms.Normalize((0.1307,), (0.3081,))\n",
    "    ])\n",
    "    train_dataset = datasets.MNIST(root='./data', train=True, download=True, transform=transform)\n",
    "    test_dataset = datasets.MNIST(root='./data', train=False, download=True, transform=transform)\n",
    "    \n",
    "    train_loader = DataLoader(train_dataset, batch_size=batch_size, shuffle=True)\n",
    "    test_loader = DataLoader(test_dataset, batch_size=batch_size, shuffle=False)\n",
    "\n",
    "    return train_loader, test_loader"
   ]
  },
  {
   "cell_type": "code",
   "execution_count": null,
   "id": "N1byiDMzkCS5",
   "metadata": {
    "id": "N1byiDMzkCS5"
   },
   "outputs": [
    {
     "name": "stdout",
     "output_type": "stream",
     "text": [
      "1701578\n"
     ]
    }
   ],
   "source": [
    "def build_model(dropout_prob=0.5) -> nn.Module:\n",
    "    model = nn.Sequential(\n",
    "        nn.Conv2d(1, 32, kernel_size=3, padding=1),  # 28x28 -> 28x28\n",
    "        nn.BatchNorm2d(32),\n",
    "        nn.ReLU(),\n",
    "        nn.Conv2d(32, 64, kernel_size=3, padding=1), # 28x28 -> 28x28\n",
    "        nn.BatchNorm2d(64),\n",
    "        nn.ReLU(),\n",
    "        nn.MaxPool2d(2),                              # 28x28 -> 14x14\n",
    "        nn.Dropout(dropout_prob),\n",
    "\n",
    "        nn.Conv2d(64, 128, kernel_size=3, padding=1), # 14x14 -> 14x14\n",
    "        nn.BatchNorm2d(128),\n",
    "        nn.ReLU(),\n",
    "        nn.MaxPool2d(2),                              # 14x14 -> 7x7\n",
    "        nn.Dropout(dropout_prob),\n",
    "\n",
    "        nn.Flatten(),\n",
    "        nn.Linear(128 * 7 * 7, 256),\n",
    "        nn.ReLU(),\n",
    "        nn.Dropout(dropout_prob),\n",
    "        nn.Linear(256, 10),\n",
    "        nn.Softmax(dim=1)\n",
    "    )\n",
    "    return model"
   ]
  },
  {
   "cell_type": "code",
   "execution_count": 23,
   "id": "aba17aab",
   "metadata": {
    "id": "aba17aab"
   },
   "outputs": [],
   "source": [
    "def check_params():\n",
    "    model = build_model()\n",
    "    print(f\"Number of parameters: {sum(p.numel() for p in model.parameters())}\")"
   ]
  },
  {
   "cell_type": "code",
   "execution_count": 24,
   "id": "41FLmd-3kCS6",
   "metadata": {
    "id": "41FLmd-3kCS6"
   },
   "outputs": [],
   "source": [
    "def train(model, optimizer, criterion, train_loader, n_epochs = 1):\n",
    "    '''\n",
    "    Train the model for `n_epochs` epochs. Returns none (model is modified in place)\n",
    "    '''\n",
    "    model.train()\n",
    "    for epoch in range(n_epochs):\n",
    "        running_loss = 0.0\n",
    "        correct = 0\n",
    "        total = 0\n",
    "        for batch_idx, (inputs, labels) in enumerate(train_loader):\n",
    "            optimizer.zero_grad()\n",
    "            outputs = model(inputs)\n",
    "            loss = criterion(outputs, labels)\n",
    "            loss.backward()\n",
    "            optimizer.step()\n",
    "            running_loss += loss.item()\n",
    "            _, predicted = torch.max(outputs, 1)\n",
    "            total += labels.size(0)\n",
    "            correct += (predicted == labels).sum().item()\n",
    "        print(f\"Epoch [{epoch+1}/{n_epochs}] Loss: {running_loss/len(train_loader):.4f} Accuracy: {correct/total:.4f}\")\n"
   ]
  },
  {
   "cell_type": "code",
   "execution_count": 25,
   "id": "kcXCl1XEkCS6",
   "metadata": {
    "id": "kcXCl1XEkCS6"
   },
   "outputs": [],
   "source": [
    "def test(model, test_loader):\n",
    "    '''\n",
    "    Tests the model. Returns none (you should print the accuracy)\n",
    "    '''\n",
    "    model.eval()\n",
    "    correct = 0\n",
    "    total = 0\n",
    "    with torch.no_grad():\n",
    "        for inputs, labels in test_loader:\n",
    "            outputs = model(inputs)\n",
    "            _, predicted = torch.max(outputs, 1)\n",
    "            total += labels.size(0)\n",
    "            correct += (predicted == labels).sum().item()\n",
    "    accuracy = correct / total\n",
    "    print(f\"Test Accuracy: {accuracy:.4f}\")\n",
    "    return accuracy"
   ]
  },
  {
   "cell_type": "code",
   "execution_count": 29,
   "id": "DF19b5vgkCS6",
   "metadata": {
    "id": "DF19b5vgkCS6"
   },
   "outputs": [
    {
     "name": "stdout",
     "output_type": "stream",
     "text": [
      "Epoch [1/1] Loss: 1.8346 Accuracy: 0.6247\n",
      "Test Accuracy: 0.7846\n",
      "Epoch [1/1] Loss: 1.9882 Accuracy: 0.4713\n",
      "Test Accuracy: 0.6937\n",
      "Epoch [1/1] Loss: 2.3620 Accuracy: 0.0991\n",
      "Test Accuracy: 0.1009\n",
      "Epoch [1/1] Loss: 1.6626 Accuracy: 0.7978\n",
      "Test Accuracy: 0.9744\n",
      "Epoch [1/1] Loss: 1.7684 Accuracy: 0.6914\n",
      "Test Accuracy: 0.8720\n",
      "Epoch [1/1] Loss: 1.5938 Accuracy: 0.8683\n",
      "Test Accuracy: 0.9763\n",
      "Epoch [1/1] Loss: 1.6224 Accuracy: 0.8406\n",
      "Test Accuracy: 0.9704\n",
      "Epoch [1/1] Loss: 1.7188 Accuracy: 0.7435\n",
      "Test Accuracy: 0.9570\n",
      "Epoch [1/1] Loss: 1.8900 Accuracy: 0.5672\n",
      "Test Accuracy: 0.9297\n",
      "Epoch [1/1] Loss: 2.1861 Accuracy: 0.2509\n",
      "Test Accuracy: 0.7302\n"
     ]
    }
   ],
   "source": [
    "# try 10 different dropout values\n",
    "train_loader, test_loader = get_data_loaders(batch_size=32)\n",
    "criterion = nn.CrossEntropyLoss()\n",
    "dropout_values = [i / 10 for i in range(10)]\n",
    "accuracies = []\n",
    "for p in dropout_values:\n",
    "    model = build_model(dropout_prob=p)\n",
    "    \n",
    "    optimizer = torch.optim.Adam(model.parameters(), lr=0.001)\n",
    "    train(model, optimizer, criterion, train_loader)\n",
    "    test(model, test_loader)\n",
    "    torch.save(model, f'hw2_dropout_{p}.pt')"
   ]
  },
  {
   "cell_type": "markdown",
   "id": "c927dddd",
   "metadata": {},
   "source": [
    "After training we have \n",
    "\n",
    "Epoch [1/1] Loss: 1.8346 Accuracy: 0.6247\n",
    "Test Accuracy: 0.7846\n",
    "\n",
    "Epoch [1/1] Loss: 1.9882 Accuracy: 0.4713\n",
    "Test Accuracy: 0.6937\n",
    "\n",
    "Epoch [1/1] Loss: 2.3620 Accuracy: 0.0991\n",
    "Test Accuracy: 0.1009\n",
    "\n",
    "Epoch [1/1] Loss: 1.6626 Accuracy: 0.7978\n",
    "Test Accuracy: 0.9744\n",
    "\n",
    "Epoch [1/1] Loss: 1.7684 Accuracy: 0.6914\n",
    "Test Accuracy: 0.8720\n",
    "\n",
    "Epoch [1/1] Loss: 1.5938 Accuracy: 0.8683\n",
    "Test Accuracy: 0.9763\n",
    "\n",
    "Epoch [1/1] Loss: 1.6224 Accuracy: 0.8406\n",
    "Test Accuracy: 0.9704\n",
    "\n",
    "Epoch [1/1] Loss: 1.7188 Accuracy: 0.7435\n",
    "Test Accuracy: 0.9570\n",
    "\n",
    "Epoch [1/1] Loss: 1.8900 Accuracy: 0.5672\n",
    "Test Accuracy: 0.9297\n",
    "\n",
    "Epoch [1/1] Loss: 2.1861 Accuracy: 0.2509\n",
    "Test Accuracy: 0.7302"
   ]
  },
  {
   "cell_type": "code",
   "execution_count": 32,
   "id": "9d8f3e91",
   "metadata": {},
   "outputs": [
    {
     "name": "stdout",
     "output_type": "stream",
     "text": [
      "Best dropout probability: 0.0\n",
      "Epoch [1/10] Loss: 1.6403 Accuracy: 0.8196\n",
      "Epoch [2/10] Loss: 1.4931 Accuracy: 0.9679\n",
      "Epoch [3/10] Loss: 1.4891 Accuracy: 0.9718\n",
      "Epoch [4/10] Loss: 1.4831 Accuracy: 0.9781\n",
      "Epoch [5/10] Loss: 1.4822 Accuracy: 0.9791\n",
      "Epoch [6/10] Loss: 1.4804 Accuracy: 0.9807\n",
      "Epoch [7/10] Loss: 1.4813 Accuracy: 0.9799\n",
      "Epoch [8/10] Loss: 1.4786 Accuracy: 0.9825\n",
      "Epoch [9/10] Loss: 1.4791 Accuracy: 0.9820\n",
      "Epoch [10/10] Loss: 1.4787 Accuracy: 0.9824\n",
      "Test Accuracy: 0.9889\n"
     ]
    }
   ],
   "source": [
    "\n",
    "# find your best model, and train it for 10 epochs\n",
    "best_p = dropout_values[accuracies.index(max(accuracies))]  \n",
    "print(f\"Best dropout probability: {best_p}\")\n",
    "\n",
    "model = build_model(dropout_prob=best_p)\n",
    "optimizer = torch.optim.Adam(model.parameters(), lr=0.001)\n",
    "train(model, optimizer, criterion, train_loader, n_epochs=10)\n",
    "test(model, test_loader)\n",
    "torch.save(model, \"hw2_model.pt\")"
   ]
  },
  {
   "cell_type": "markdown",
   "id": "c4ce4bf3",
   "metadata": {},
   "source": [
    "After training we have \n",
    "\n",
    "Epoch [1/10] Loss: 1.6403 Accuracy: 0.8196\n",
    "\n",
    "Epoch [2/10] Loss: 1.4931 Accuracy: 0.9679\n",
    "\n",
    "Epoch [3/10] Loss: 1.4891 Accuracy: 0.9718\n",
    "\n",
    "Epoch [4/10] Loss: 1.4831 Accuracy: 0.9781\n",
    "\n",
    "Epoch [5/10] Loss: 1.4822 Accuracy: 0.9791\n",
    "\n",
    "Epoch [6/10] Loss: 1.4804 Accuracy: 0.9807\n",
    "\n",
    "Epoch [7/10] Loss: 1.4813 Accuracy: 0.9799\n",
    "\n",
    "Epoch [8/10] Loss: 1.4786 Accuracy: 0.9825\n",
    "\n",
    "Epoch [9/10] Loss: 1.4791 Accuracy: 0.9820\n",
    "\n",
    "Epoch [10/10] Loss: 1.4787 Accuracy: 0.9824\n",
    "\n",
    "Test Accuracy: 0.9889"
   ]
  },
  {
   "cell_type": "markdown",
   "id": "d8a2dc2a",
   "metadata": {
    "id": "d8a2dc2a"
   },
   "source": [
    "# Submission Instructions\n",
    "\n",
    "Zip all of your **code** and **model .pt files** into one file, and submit on Gradescope to the respective submission."
   ]
  },
  {
   "cell_type": "markdown",
   "id": "1925e257",
   "metadata": {},
   "source": []
  }
 ],
 "metadata": {
  "colab": {
   "provenance": []
  },
  "kernelspec": {
   "display_name": "Python 3",
   "language": "python",
   "name": "python3"
  },
  "language_info": {
   "codemirror_mode": {
    "name": "ipython",
    "version": 3
   },
   "file_extension": ".py",
   "mimetype": "text/x-python",
   "name": "python",
   "nbconvert_exporter": "python",
   "pygments_lexer": "ipython3",
   "version": "3.11.7"
  }
 },
 "nbformat": 4,
 "nbformat_minor": 5
}
